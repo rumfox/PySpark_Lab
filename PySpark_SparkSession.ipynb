{
 "cells": [
  {
   "cell_type": "code",
   "execution_count": 1,
   "metadata": {},
   "outputs": [
    {
     "name": "stderr",
     "output_type": "stream",
     "text": [
      "WARNING: An illegal reflective access operation has occurred\n",
      "WARNING: Illegal reflective access by org.apache.spark.unsafe.Platform (file:/usr/local/spark-3.2.0-bin-hadoop3.2/jars/spark-unsafe_2.12-3.2.0.jar) to constructor java.nio.DirectByteBuffer(long,int)\n",
      "WARNING: Please consider reporting this to the maintainers of org.apache.spark.unsafe.Platform\n",
      "WARNING: Use --illegal-access=warn to enable warnings of further illegal reflective access operations\n",
      "WARNING: All illegal access operations will be denied in a future release\n",
      "Using Spark's default log4j profile: org/apache/spark/log4j-defaults.properties\n",
      "Setting default log level to \"WARN\".\n",
      "To adjust logging level use sc.setLogLevel(newLevel). For SparkR, use setLogLevel(newLevel).\n",
      "22/02/03 08:09:20 WARN NativeCodeLoader: Unable to load native-hadoop library for your platform... using builtin-java classes where applicable\n"
     ]
    },
    {
     "name": "stdout",
     "output_type": "stream",
     "text": [
      "Spark Object id created ...\n"
     ]
    }
   ],
   "source": [
    "### Create a Spark Object\n",
    "\n",
    "# In Spark 2.0, SparkSession is new entry point to work with RDD, DataFrame and all othere functionalities\n",
    "# Prior 2.0 SparkContext used to be an entry point \n",
    "# \n",
    "# Almost all the APIs available in SparkContext, SQLContext, HiveContext are now available in SparkSession\n",
    "#    SparkContext : Entry point to work with RDD, Accumulators and broadcast variables (< Spark 2.0).\n",
    "#    SQLContext   : Used for initializing the functionalities of Spark SQL (< spark 2.0).\n",
    "#    HiveContext  : Super set of SQLContext (< spark 2.0).\n",
    "# By Default, Spark Shell provides a \"spark\" object which is an instance of SparkSession class\n",
    "\n",
    "from pyspark.sql import SparkSession\n",
    "\n",
    "#spark = SparkSession \\\n",
    "#        .builder \\\n",
    "#        .master('yarn') \\\n",
    "#        .appName(\"Python Spark SQL basic example\") \\\n",
    "#        .getOrCreate()\n",
    "\n",
    "spark = SparkSession \\\n",
    "        .builder \\\n",
    "        .master(\"local[*]\") \\\n",
    "        .appName(\"Python Spark SQL basic example\") \\\n",
    "        .getOrCreate()\n",
    "\n",
    "spark.conf.set(\"spark.sql.shuffle.partitions\", 5)\n",
    "\n",
    "print(\"Spark Object id created ...\")"
   ]
  },
  {
   "cell_type": "code",
   "execution_count": 2,
   "metadata": {},
   "outputs": [
    {
     "name": "stdout",
     "output_type": "stream",
     "text": [
      "Number of partitions for shuffle changed to : 5\n"
     ]
    }
   ],
   "source": [
    "print(\"Number of partitions for shuffle changed to : \" + str(spark.conf.get('spark.sql.shuffle.partitions')))"
   ]
  },
  {
   "cell_type": "code",
   "execution_count": 12,
   "metadata": {},
   "outputs": [
    {
     "name": "stdout",
     "output_type": "stream",
     "text": [
      "1,Richard,Hernandez,XXXXXXXXX,XXXXXXXXX,6303 Heather Plaza,Brownsville,TX,78521\n",
      "2,Mary,Barrett,XXXXXXXXX,XXXXXXXXX,9526 Noble Embers Ridge,Littleton,CO,80126\n",
      "3,Ann,Smith,XXXXXXXXX,XXXXXXXXX,3422 Blue Pioneer Bend,Caguas,PR,00725\n",
      "4,Mary,Jones,XXXXXXXXX,XXXXXXXXX,8324 Little Common,San Marcos,CA,92069\n",
      "5,Robert,Hudson,XXXXXXXXX,XXXXXXXXX,\"10 Crystal River Mall \",Caguas,PR,00725\n",
      "2\n"
     ]
    },
    {
     "data": {
      "text/plain": [
       "[6240, 6195]"
      ]
     },
     "execution_count": 12,
     "metadata": {},
     "output_type": "execute_result"
    }
   ],
   "source": [
    "##### Practice 1\n",
    "\n",
    "# Create RDD using textFile API\n",
    "rdd = spark.sparkContext.textFile('work/data/PracticeFiles/Customers')\n",
    "rdd.take(5)\n",
    "for i in rdd.take(5): print(i)\n",
    "\n",
    "# Get the Number of Partitions in the RDD\n",
    "Partition_Number = rdd.getNumPartitions()\n",
    "print(Partition_Number)\n",
    "\n",
    "# Get the Number of elements in each partition\n",
    "rdd.glom().map(len).collect()"
   ]
  },
  {
   "cell_type": "code",
   "execution_count": 13,
   "metadata": {},
   "outputs": [
    {
     "name": "stdout",
     "output_type": "stream",
     "text": [
      "10\n"
     ]
    },
    {
     "data": {
      "text/plain": [
       "[1260, 1244, 1243, 1247, 1246, 1247, 1244, 1245, 1229, 1230]"
      ]
     },
     "execution_count": 13,
     "metadata": {},
     "output_type": "execute_result"
    }
   ],
   "source": [
    "##### Practice 2\n",
    "\n",
    "# Create RDD using textFile API and a defined number of partitions\n",
    "rdd = spark.sparkContext.textFile('work/data/PracticeFiles/Customers',10)\n",
    "\n",
    "# Get the Number of Partitions in the RDD\n",
    "print(rdd.getNumPartitions())\n",
    "\n",
    "# Get the Number of elements in each partition\n",
    "rdd.glom().map(len).collect()"
   ]
  }
 ],
 "metadata": {
  "interpreter": {
   "hash": "2be5faf79681da6f2a61fdfdd5405d65d042280f7fba6178067603e3a2925119"
  },
  "kernelspec": {
   "display_name": "Python 3 (ipykernel)",
   "language": "python",
   "name": "python3"
  },
  "language_info": {
   "codemirror_mode": {
    "name": "ipython",
    "version": 3
   },
   "file_extension": ".py",
   "mimetype": "text/x-python",
   "name": "python",
   "nbconvert_exporter": "python",
   "pygments_lexer": "ipython3",
   "version": "3.9.7"
  },
  "orig_nbformat": 4
 },
 "nbformat": 4,
 "nbformat_minor": 2
}
