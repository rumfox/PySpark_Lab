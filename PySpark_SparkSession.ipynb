{
 "cells": [
  {
   "cell_type": "code",
   "execution_count": 6,
   "metadata": {},
   "outputs": [
    {
     "name": "stdout",
     "output_type": "stream",
     "text": [
      "Spark Object id created ...\n"
     ]
    }
   ],
   "source": [
    "### Create a Spark Object\n",
    "\n",
    "# In Spark 2.0, SparkSession is new entry point to work with RDD, DataFrame and all othere functionalities\n",
    "# Prior 2.0 SparkContext used to be an entry point \n",
    "# Almost all the APIs available in SparkContext, SQLContext, HiveContext are now available in SparkSession\n",
    "#    SparkContext : Entry point to work with RDD, Accumulators and broadcast variables (< Spark 2.0).\n",
    "#    SQLContext   : Used for initializing the functionalities of Spark SQL (< spark 2.0).\n",
    "#    HiveContext  : Super set of SQLContext (< spark 2.0).\n",
    "# By Default, Spark Shell provides a \"spark\" object which is an instance of SparkSession class\n",
    "\n",
    "from pyspark.sql import SparkSession\n",
    "\n",
    "#spark = SparkSession \\\n",
    "#        .builder \\\n",
    "#        .master('yarn') \\\n",
    "#        .appName(\"Python Spark SQL basic example\") \\\n",
    "#        .getOrCreate()\n",
    "\n",
    "spark = SparkSession \\\n",
    "        .builder \\\n",
    "        .master(\"local[*]\") \\\n",
    "        .appName(\"Python Spark SQL basic example\") \\\n",
    "        .getOrCreate()\n",
    "\n",
    "print(\"Spark Object id created ...\")"
   ]
  },
  {
   "cell_type": "code",
   "execution_count": 9,
   "metadata": {},
   "outputs": [],
   "source": [
    "spark.stop()"
   ]
  }
 ],
 "metadata": {
  "interpreter": {
   "hash": "2be5faf79681da6f2a61fdfdd5405d65d042280f7fba6178067603e3a2925119"
  },
  "kernelspec": {
   "display_name": "Python 3 (ipykernel)",
   "language": "python",
   "name": "python3"
  },
  "language_info": {
   "codemirror_mode": {
    "name": "ipython",
    "version": 3
   },
   "file_extension": ".py",
   "mimetype": "text/x-python",
   "name": "python",
   "nbconvert_exporter": "python",
   "pygments_lexer": "ipython3",
   "version": "3.9.7"
  },
  "orig_nbformat": 4
 },
 "nbformat": 4,
 "nbformat_minor": 2
}
